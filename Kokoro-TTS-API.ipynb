{
 "cells": [
  {
   "cell_type": "code",
   "execution_count": null,
   "id": "initial_id",
   "metadata": {
    "collapsed": true
   },
   "outputs": [],
   "source": [
    "# Setup Kokoro-TTS-API with ngrok static domain\n",
    "%cd /content\n",
    "!git clone https://github.com/uzzalhcse/Kokoro-TTS-API.git\n",
    "%cd Kokoro-TTS-API\n",
    "\n",
    "# Install dependencies\n",
    "!pip3 install torch torchvision torchaudio --index-url https://download.pytorch.org/whl/cu118\n",
    "!pip install -r requirements.txt\n",
    "!pip install gradio spaces\n",
    "!pip install flask_cors\n",
    "# Uninstall and reinstall torchvision with CUDA 11.8\n",
    "!pip uninstall -y torchvision\n",
    "!pip install torchvision --index-url https://download.pytorch.org/whl/cu118\n",
    "\n",
    "# Install ngrok\n",
    "!pip install pyngrok\n",
    "\n",
    "# Create modified app launcher\n",
    "import os\n",
    "from pyngrok import ngrok\n",
    "\n",
    "# Set your ngrok auth token (get this from ngrok dashboard)\n",
    "NGROK_AUTH_TOKEN = \"2zXLUA3M0QKDdUvtRgDHE9z2B4Z_2vnDDpg7NuZ6fJxZuj22R\"  # Replace with your actual token\n",
    "STATIC_DOMAIN = \"rich-cricket-strictly.ngrok-free.app\"  # Replace with your static domain\n",
    "\n",
    "# Authenticate ngrok\n",
    "ngrok.set_auth_token(NGROK_AUTH_TOKEN)\n",
    "\n",
    "# Function to start ngrok tunnel\n",
    "def start_ngrok_tunnel():\n",
    "    # Kill any existing ngrok processes\n",
    "    ngrok.kill()\n",
    "\n",
    "    # Create tunnel to your static domain\n",
    "    public_url = ngrok.connect(\n",
    "        addr=7860,\n",
    "        domain=STATIC_DOMAIN,  # Use your static domain\n",
    "        bind_tls=True\n",
    "    )\n",
    "\n",
    "    print(f\"🚀 Kokoro-TTS-API is running at: {public_url}\")\n",
    "    print(f\"🔗 Static domain: https://{STATIC_DOMAIN}\")\n",
    "    return public_url\n"
   ]
  },
  {
   "metadata": {},
   "cell_type": "code",
   "outputs": [],
   "execution_count": null,
   "source": [
    "\n",
    "# Start the tunnel\n",
    "print(\"Starting ngrok tunnel...\")\n",
    "tunnel_url = start_ngrok_tunnel()"
   ],
   "id": "e6dda7ea4065d6a9"
  },
  {
   "metadata": {},
   "cell_type": "code",
   "outputs": [],
   "execution_count": null,
   "source": [
    "\n",
    "\n",
    "# Run the app\n",
    "print(\"Starting Kokoro-TTS-API app...\")\n",
    "!python /content/Kokoro-TTS-API/app_api_ngrok.py"
   ],
   "id": "6524ffdc3a024692"
  }
 ],
 "metadata": {
  "kernelspec": {
   "display_name": "Python 3",
   "language": "python",
   "name": "python3"
  },
  "language_info": {
   "codemirror_mode": {
    "name": "ipython",
    "version": 2
   },
   "file_extension": ".py",
   "mimetype": "text/x-python",
   "name": "python",
   "nbconvert_exporter": "python",
   "pygments_lexer": "ipython2",
   "version": "2.7.6"
  }
 },
 "nbformat": 4,
 "nbformat_minor": 5
}
